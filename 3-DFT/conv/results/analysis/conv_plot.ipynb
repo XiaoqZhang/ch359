{
 "cells": [
  {
   "cell_type": "code",
   "execution_count": 1,
   "metadata": {},
   "outputs": [],
   "source": [
    "import pandas as pd\n",
    "import numpy as np\n",
    "import matplotlib.pyplot as plt"
   ]
  },
  {
   "cell_type": "code",
   "execution_count": null,
   "metadata": {},
   "outputs": [],
   "source": [
    "# create a file for each test by grepping the total energy from the output file using different cutoffs and rel_cutoffs\n",
    "\n",
    "# load them into pandas dataframes\n",
    "cutoff = pd.read_csv('file')\n",
    "rel_cutoff = pd.read_csv('file')"
   ]
  },
  {
   "cell_type": "code",
   "execution_count": 3,
   "metadata": {},
   "outputs": [],
   "source": [
    "cutoff['dE'] = # get variation of energy between steps\n",
    "# cutoff = cutoff.drop(0) # uncomment if first row is not needed\n",
    "\n",
    "rel_cutoff['dE'] = # get variation of energy between steps\n",
    "# rel_cutoff = rel_cutoff.drop(0)  # uncomment if first row is not needed"
   ]
  },
  {
   "cell_type": "code",
   "execution_count": null,
   "metadata": {},
   "outputs": [],
   "source": [
    "cutoff # visualize data"
   ]
  },
  {
   "cell_type": "code",
   "execution_count": null,
   "metadata": {},
   "outputs": [],
   "source": [
    "plt.figure()\n",
    "plt.scatter() # plot variation of energy vs. cutoff \n",
    "# add labels\n",
    "# highlight point you would choose\n",
    "# save figure"
   ]
  },
  {
   "cell_type": "code",
   "execution_count": null,
   "metadata": {},
   "outputs": [],
   "source": [
    "plt.figure()\n",
    "plt.scatter() # plot variation of energy vs. rel_cutoff\n",
    "# add labels\n",
    "# highlight point you would choose\n",
    "# save figure"
   ]
  }
 ],
 "metadata": {
  "kernelspec": {
   "display_name": "aiida1.6",
   "language": "python",
   "name": "python3"
  },
  "language_info": {
   "codemirror_mode": {
    "name": "ipython",
    "version": 3
   },
   "file_extension": ".py",
   "mimetype": "text/x-python",
   "name": "python",
   "nbconvert_exporter": "python",
   "pygments_lexer": "ipython3",
   "version": "3.7.13"
  },
  "orig_nbformat": 4,
  "vscode": {
   "interpreter": {
    "hash": "1d0c5f8efdce12e9899ce7643a88b03bdd5a48e875879f5a179b810e2f6aae19"
   }
  }
 },
 "nbformat": 4,
 "nbformat_minor": 2
}
