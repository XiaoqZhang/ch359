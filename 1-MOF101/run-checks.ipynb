{
 "cells": [
  {
   "attachments": {},
   "cell_type": "markdown",
   "id": "bfe71fb4",
   "metadata": {},
   "source": [
    "Importing packages"
   ]
  },
  {
   "cell_type": "code",
   "execution_count": 29,
   "id": "f9bcc93d",
   "metadata": {},
   "outputs": [],
   "source": [
    "import os, glob\n",
    "from ase.io import read\n",
    "from mofchecker import MOFChecker\n",
    "from oximachinerunner import OximachineRunner\n",
    "from moffragmentor import MOF\n",
    "import pymatgen\n",
    "from pymatgen.core.structure import Structure"
   ]
  },
  {
   "attachments": {},
   "cell_type": "markdown",
   "id": "bfe71fb4",
   "metadata": {},
   "source": [
    "Loading the structures"
   ]
  },
  {
   "cell_type": "code",
   "execution_count": 6,
   "id": "26ad6f37",
   "metadata": {},
   "outputs": [],
   "source": [
    "THIS_DIR = os.path.dirname(os.path.abspath(\"__file__\"))\n",
    "s_folder = THIS_DIR + '/structures/'\n",
    "all_structures = glob.glob(os.path.join(s_folder, \"*.cif\"))"
   ]
  },
  {
   "attachments": {},
   "cell_type": "markdown",
   "id": "bfe71fb4",
   "metadata": {},
   "source": [
    "Which structures do we have?"
   ]
  },
  {
   "cell_type": "code",
   "execution_count": 7,
   "id": "4f93e164",
   "metadata": {},
   "outputs": [
    {
     "name": "stdout",
     "output_type": "stream",
     "text": [
      "structure5.cif\n",
      "mof5.cif\n",
      "structure4.cif\n",
      "structure6.cif\n",
      "UiO_66_cell.cif\n",
      "structure3.cif\n",
      "structure2.cif\n",
      "UiO_66_orig.cif\n",
      "structure1.cif\n"
     ]
    }
   ],
   "source": [
    "for s in all_structures:\n",
    "    print(s.split(\"/\")[-1])"
   ]
  },
  {
   "attachments": {},
   "cell_type": "markdown",
   "id": "bfe71fb4",
   "metadata": {},
   "source": [
    "MOFChecker - add info\n",
    "\n",
    "We will start with UiO_66."
   ]
  },
  {
   "cell_type": "code",
   "execution_count": 8,
   "id": "03f6befa",
   "metadata": {},
   "outputs": [],
   "source": [
    "for structure in all_structures:\n",
    "    if structure.split(\"/\")[-1] == 'UiO_66_orig.cif':\n",
    "        s = structure\n",
    "\n",
    "mofchecker = MOFChecker.from_cif(s)"
   ]
  },
  {
   "cell_type": "code",
   "execution_count": 9,
   "id": "169f5e22",
   "metadata": {},
   "outputs": [],
   "source": [
    "descriptors = mofchecker.get_mof_descriptors()"
   ]
  },
  {
   "cell_type": "code",
   "execution_count": 10,
   "id": "f2ed1a5c",
   "metadata": {},
   "outputs": [
    {
     "data": {
      "text/plain": [
       "OrderedDict([('name', 'UiO_66_orig'),\n",
       "             ('graph_hash', '6e0a7d67bd137e43ecaeb8a66c547b7c'),\n",
       "             ('scaffold_hash', '36a2ef3431427708a40ee4bdcd73a0a6'),\n",
       "             ('symmetry_hash',\n",
       "              'bZAfBWRsRBh4HUUBxHuATCJKZwSlcYB8eJKCGNcGin8=1'),\n",
       "             ('formula', 'Zr24 H98 C192 O121'),\n",
       "             ('path',\n",
       "              '/home/beatriz/Documents/ta/ch359/ch359/1-MOF101/structures/UiO_66_orig.cif'),\n",
       "             ('density', 1.2224612616521444),\n",
       "             ('has_carbon', True),\n",
       "             ('has_hydrogen', True),\n",
       "             ('has_atomic_overlaps', True),\n",
       "             ('has_overcoordinated_c', False),\n",
       "             ('has_overcoordinated_n', False),\n",
       "             ('has_overcoordinated_h', False),\n",
       "             ('has_undercoordinated_c', False),\n",
       "             ('has_undercoordinated_n', False),\n",
       "             ('has_undercoordinated_rare_earth', False),\n",
       "             ('has_metal', True),\n",
       "             ('has_lone_molecule', True),\n",
       "             ('has_high_charges', True),\n",
       "             ('is_porous', True),\n",
       "             ('has_suspicicious_terminal_oxo', False)])"
      ]
     },
     "execution_count": 10,
     "metadata": {},
     "output_type": "execute_result"
    }
   ],
   "source": [
    "descriptors"
   ]
  },
  {
   "cell_type": "code",
   "execution_count": 11,
   "id": "8a9a64e3",
   "metadata": {},
   "outputs": [
    {
     "data": {
      "text/plain": [
       "[[120, 121, 434]]"
      ]
     },
     "execution_count": 11,
     "metadata": {},
     "output_type": "execute_result"
    }
   ],
   "source": [
    "mofchecker.lone_molecule_indices"
   ]
  },
  {
   "attachments": {},
   "cell_type": "markdown",
   "id": "bfe71fb4",
   "metadata": {},
   "source": [
    "Oximachine - add info"
   ]
  },
  {
   "cell_type": "code",
   "execution_count": 12,
   "id": "496254c6",
   "metadata": {},
   "outputs": [],
   "source": [
    "runner = OximachineRunner()"
   ]
  },
  {
   "cell_type": "code",
   "execution_count": 13,
   "id": "5330b8ed",
   "metadata": {},
   "outputs": [],
   "source": [
    "s_ase = read(s)\n",
    "mof_ox = runner.run_oximachine(structure=s_ase)"
   ]
  },
  {
   "cell_type": "code",
   "execution_count": 14,
   "id": "55c24351",
   "metadata": {},
   "outputs": [
    {
     "data": {
      "text/plain": [
       "OrderedDict([('metal_indices',\n",
       "              [0,\n",
       "               1,\n",
       "               2,\n",
       "               3,\n",
       "               4,\n",
       "               5,\n",
       "               6,\n",
       "               7,\n",
       "               8,\n",
       "               9,\n",
       "               10,\n",
       "               11,\n",
       "               12,\n",
       "               13,\n",
       "               14,\n",
       "               15,\n",
       "               16,\n",
       "               17,\n",
       "               18,\n",
       "               19,\n",
       "               20,\n",
       "               21,\n",
       "               22,\n",
       "               23]),\n",
       "             ('metal_symbols',\n",
       "              ['Zr',\n",
       "               'Zr',\n",
       "               'Zr',\n",
       "               'Zr',\n",
       "               'Zr',\n",
       "               'Zr',\n",
       "               'Zr',\n",
       "               'Zr',\n",
       "               'Zr',\n",
       "               'Zr',\n",
       "               'Zr',\n",
       "               'Zr',\n",
       "               'Zr',\n",
       "               'Zr',\n",
       "               'Zr',\n",
       "               'Zr',\n",
       "               'Zr',\n",
       "               'Zr',\n",
       "               'Zr',\n",
       "               'Zr',\n",
       "               'Zr',\n",
       "               'Zr',\n",
       "               'Zr',\n",
       "               'Zr']),\n",
       "             ('prediction',\n",
       "              [4,\n",
       "               4,\n",
       "               4,\n",
       "               4,\n",
       "               4,\n",
       "               4,\n",
       "               4,\n",
       "               4,\n",
       "               4,\n",
       "               4,\n",
       "               4,\n",
       "               4,\n",
       "               4,\n",
       "               4,\n",
       "               4,\n",
       "               4,\n",
       "               4,\n",
       "               4,\n",
       "               4,\n",
       "               4,\n",
       "               4,\n",
       "               4,\n",
       "               4,\n",
       "               4]),\n",
       "             ('max_probas',\n",
       "              [0.6830861133419691,\n",
       "               0.6830861133419691,\n",
       "               0.6830861133419691,\n",
       "               0.6830861133419691,\n",
       "               0.6830861133419691,\n",
       "               0.6830861133419691,\n",
       "               0.6830861133419691,\n",
       "               0.6830861133419691,\n",
       "               0.6830861133419691,\n",
       "               0.6506709420433953,\n",
       "               0.7672606158840815,\n",
       "               0.6830861133419691,\n",
       "               0.6830861133419691,\n",
       "               0.8765519431254045,\n",
       "               0.6830861133419691,\n",
       "               0.6830861133419691,\n",
       "               0.8765519431254045,\n",
       "               0.6830861133419691,\n",
       "               0.6506709420433953,\n",
       "               0.6830861133419691,\n",
       "               0.6506709420433953,\n",
       "               0.6830861133419691,\n",
       "               0.8765519431254045,\n",
       "               0.6830861133419691]),\n",
       "             ('base_predictions',\n",
       "              [[4, 3, 4, 4],\n",
       "               [4, 3, 4, 4],\n",
       "               [4, 3, 4, 4],\n",
       "               [4, 3, 4, 4],\n",
       "               [4, 3, 4, 4],\n",
       "               [4, 3, 4, 4],\n",
       "               [4, 3, 4, 4],\n",
       "               [4, 3, 4, 4],\n",
       "               [4, 3, 4, 4],\n",
       "               [4, 4, 3, 4],\n",
       "               [4, 3, 4, 4],\n",
       "               [4, 3, 4, 4],\n",
       "               [4, 3, 4, 4],\n",
       "               [4, 4, 4, 4],\n",
       "               [4, 3, 4, 4],\n",
       "               [4, 3, 4, 4],\n",
       "               [4, 4, 4, 4],\n",
       "               [4, 3, 4, 4],\n",
       "               [4, 4, 3, 4],\n",
       "               [4, 3, 4, 4],\n",
       "               [4, 4, 3, 4],\n",
       "               [4, 3, 4, 4],\n",
       "               [4, 4, 4, 4],\n",
       "               [4, 3, 4, 4]])])"
      ]
     },
     "execution_count": 14,
     "metadata": {},
     "output_type": "execute_result"
    }
   ],
   "source": [
    "mof_ox"
   ]
  },
  {
   "attachments": {},
   "cell_type": "markdown",
   "id": "bfe71fb4",
   "metadata": {},
   "source": [
    "MOFFragmentor - add info"
   ]
  },
  {
   "cell_type": "code",
   "execution_count": 15,
   "id": "c2e88beb",
   "metadata": {},
   "outputs": [],
   "source": [
    "mof = MOF.from_cif(s)"
   ]
  },
  {
   "cell_type": "code",
   "execution_count": 16,
   "id": "169d334a",
   "metadata": {},
   "outputs": [],
   "source": [
    "fragments = mof.fragment()"
   ]
  },
  {
   "cell_type": "code",
   "execution_count": 17,
   "id": "937ec097",
   "metadata": {},
   "outputs": [
    {
     "data": {
      "text/plain": [
       "FragmentationResult(nodes=SBUCollection({'C12 O30 Zr6': 4}), linkers=SBUCollection({'C8 H4 O4': 24}), bound_solvent=NonSbuMoleculeCollection({}), unbound_solvent=NonSbuMoleculeCollection({'H2 O1': 1}), capping_molecules=SBUCollection({}), net_embedding=<moffragmentor.net.Net object at 0x7f4568f71040>, has_1d_sbu=False)"
      ]
     },
     "execution_count": 17,
     "metadata": {},
     "output_type": "execute_result"
    }
   ],
   "source": [
    "fragments"
   ]
  },
  {
   "attachments": {},
   "cell_type": "markdown",
   "id": "bfe71fb4",
   "metadata": {},
   "source": [
    "Pymatgen - add info (https://matgenb.materialsvirtuallab.org/)"
   ]
  },
  {
   "cell_type": "markdown",
   "id": "391cbcc1",
   "metadata": {},
   "source": []
  },
  {
   "cell_type": "code",
   "execution_count": 30,
   "id": "3200bf41",
   "metadata": {},
   "outputs": [],
   "source": [
    "pmg_structure = Structure.from_file(s)"
   ]
  },
  {
   "cell_type": "code",
   "execution_count": 34,
   "id": "3cd86a1e",
   "metadata": {},
   "outputs": [
    {
     "name": "stdout",
     "output_type": "stream",
     "text": [
      "Zr24 H98 C192 O121\n",
      "1.2224612616521444 g cm^-3\n",
      "0.0\n"
     ]
    }
   ],
   "source": [
    "print(pmg_structure.composition)\n",
    "print(pmg_structure.density)\n",
    "print(pmg_structure.charge)\n"
   ]
  },
  {
   "cell_type": "code",
   "execution_count": 41,
   "id": "2badac7b",
   "metadata": {},
   "outputs": [],
   "source": [
    "primitive = pmg_structure.get_primitive_structure()"
   ]
  }
 ],
 "metadata": {
  "kernelspec": {
   "display_name": "ch359",
   "language": "python",
   "name": "python3"
  },
  "language_info": {
   "codemirror_mode": {
    "name": "ipython",
    "version": 3
   },
   "file_extension": ".py",
   "mimetype": "text/x-python",
   "name": "python",
   "nbconvert_exporter": "python",
   "pygments_lexer": "ipython3",
   "version": "3.8.16"
  },
  "vscode": {
   "interpreter": {
    "hash": "cafa4febb4531d3746783e3a69594e4babbec66c67dec25d40ad177d34b08658"
   }
  }
 },
 "nbformat": 4,
 "nbformat_minor": 5
}
