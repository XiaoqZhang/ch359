{
 "cells": [
  {
   "attachments": {},
   "cell_type": "markdown",
   "id": "bfe71fb4",
   "metadata": {},
   "source": [
    "Importing packages"
   ]
  },
  {
   "cell_type": "code",
   "execution_count": 2,
   "id": "f9bcc93d",
   "metadata": {},
   "outputs": [],
   "source": [
    "import os, glob\n",
    "from ase.io import read\n",
    "from mofchecker import MOFChecker\n",
    "from oximachinerunner import OximachineRunner\n",
    "from moffragmentor import MOF"
   ]
  },
  {
   "attachments": {},
   "cell_type": "markdown",
   "id": "bfe71fb4",
   "metadata": {},
   "source": [
    "Loading the structures"
   ]
  },
  {
   "cell_type": "code",
   "execution_count": 3,
   "id": "26ad6f37",
   "metadata": {},
   "outputs": [],
   "source": [
    "THIS_DIR = os.path.dirname(os.path.abspath(\"__file__\"))\n",
    "s_folder = THIS_DIR + '/structures/'\n",
    "all_structures = glob.glob(os.path.join(s_folder, \"*.cif\"))"
   ]
  },
  {
   "attachments": {},
   "cell_type": "markdown",
   "id": "bfe71fb4",
   "metadata": {},
   "source": [
    "Which structures do we have?"
   ]
  },
  {
   "cell_type": "code",
   "execution_count": 6,
   "id": "4f93e164",
   "metadata": {},
   "outputs": [
    {
     "name": "stdout",
     "output_type": "stream",
     "text": [
      "structure5.cif\n",
      "mof5.cif\n",
      "structure4.cif\n",
      "structure6.cif\n",
      "UiO_66_cell.cif\n",
      "structure3.cif\n",
      "structure2.cif\n",
      "UiO_66_orig.cif\n",
      "structure1.cif\n"
     ]
    }
   ],
   "source": [
    "for s in all_structures:\n",
    "    print(s.split(\"/\")[-1])"
   ]
  },
  {
   "attachments": {},
   "cell_type": "markdown",
   "id": "bfe71fb4",
   "metadata": {},
   "source": [
    "MOFChecker - add info\n",
    "\n",
    "We will start with UiO_66."
   ]
  },
  {
   "cell_type": "code",
   "execution_count": 8,
   "id": "03f6befa",
   "metadata": {},
   "outputs": [],
   "source": [
    "for structure in all_structures:\n",
    "    if structure.split(\"/\")[-1] == 'UiO_66_orig.cif':\n",
    "        s = structure\n",
    "\n",
    "mofchecker = MOFChecker.from_cif(s)"
   ]
  },
  {
   "cell_type": "code",
   "execution_count": 14,
   "id": "169f5e22",
   "metadata": {},
   "outputs": [],
   "source": [
    "descriptors = mofchecker.get_mof_descriptors()"
   ]
  },
  {
   "cell_type": "code",
   "execution_count": 15,
   "id": "f2ed1a5c",
   "metadata": {},
   "outputs": [
    {
     "data": {
      "text/plain": [
       "OrderedDict([('name', 'UiO_66_orig'),\n",
       "             ('graph_hash', '6e0a7d67bd137e43ecaeb8a66c547b7c'),\n",
       "             ('scaffold_hash', '36a2ef3431427708a40ee4bdcd73a0a6'),\n",
       "             ('symmetry_hash',\n",
       "              'bZAfBWRsRBh4HUUBxHuATCJKZwSlcYB8eJKCGNcGin8=1'),\n",
       "             ('formula', 'Zr24 H98 C192 O121'),\n",
       "             ('path',\n",
       "              '/home/beatriz/Documents/ta/ch359/ch359/1-MOF101/structures/UiO_66_orig.cif'),\n",
       "             ('density', 1.2224612616521444),\n",
       "             ('has_carbon', True),\n",
       "             ('has_hydrogen', True),\n",
       "             ('has_atomic_overlaps', True),\n",
       "             ('has_overcoordinated_c', False),\n",
       "             ('has_overcoordinated_n', False),\n",
       "             ('has_overcoordinated_h', False),\n",
       "             ('has_undercoordinated_c', False),\n",
       "             ('has_undercoordinated_n', False),\n",
       "             ('has_undercoordinated_rare_earth', False),\n",
       "             ('has_metal', True),\n",
       "             ('has_lone_molecule', True),\n",
       "             ('has_high_charges', True),\n",
       "             ('is_porous', True),\n",
       "             ('has_suspicicious_terminal_oxo', False)])"
      ]
     },
     "execution_count": 15,
     "metadata": {},
     "output_type": "execute_result"
    }
   ],
   "source": [
    "descriptors"
   ]
  },
  {
   "cell_type": "code",
   "execution_count": 10,
   "id": "8a9a64e3",
   "metadata": {},
   "outputs": [
    {
     "data": {
      "text/plain": [
       "[[120, 121, 434]]"
      ]
     },
     "execution_count": 10,
     "metadata": {},
     "output_type": "execute_result"
    }
   ],
   "source": [
    "mofchecker.lone_molecule_indices"
   ]
  },
  {
   "attachments": {},
   "cell_type": "markdown",
   "id": "bfe71fb4",
   "metadata": {},
   "source": [
    "Oximachine - add info"
   ]
  },
  {
   "cell_type": "code",
   "execution_count": 11,
   "id": "496254c6",
   "metadata": {},
   "outputs": [],
   "source": [
    "runner = OximachineRunner()"
   ]
  },
  {
   "cell_type": "code",
   "execution_count": 13,
   "id": "5330b8ed",
   "metadata": {},
   "outputs": [],
   "source": [
    "s_ase = read(s)\n",
    "mof_ox = runner.run_oximachine(structure=s_ase)"
   ]
  },
  {
   "cell_type": "code",
   "execution_count": null,
   "id": "55c24351",
   "metadata": {},
   "outputs": [],
   "source": [
    "mof_ox"
   ]
  },
  {
   "attachments": {},
   "cell_type": "markdown",
   "id": "bfe71fb4",
   "metadata": {},
   "source": [
    "MOFFragmentor - add info"
   ]
  },
  {
   "cell_type": "code",
   "execution_count": 34,
   "id": "c2e88beb",
   "metadata": {},
   "outputs": [],
   "source": [
    "mof = MOF.from_cif(s)"
   ]
  },
  {
   "cell_type": "code",
   "execution_count": 35,
   "id": "169d334a",
   "metadata": {},
   "outputs": [],
   "source": [
    "fragments = mof.fragment()"
   ]
  },
  {
   "cell_type": "code",
   "execution_count": 36,
   "id": "937ec097",
   "metadata": {},
   "outputs": [
    {
     "data": {
      "text/plain": [
       "FragmentationResult(nodes=SBUCollection({'C4 Cu2 O8': 24}), linkers=SBUCollection({'C9 H3 O6': 32}), bound_solvent=NonSbuMoleculeCollection({}), unbound_solvent=NonSbuMoleculeCollection({'H1': 1}), capping_molecules=SBUCollection({}), net_embedding=<moffragmentor.net.Net object at 0x7f212fe26a30>, has_1d_sbu=False)"
      ]
     },
     "execution_count": 36,
     "metadata": {},
     "output_type": "execute_result"
    }
   ],
   "source": [
    "fragments"
   ]
  },
  {
   "attachments": {},
   "cell_type": "markdown",
   "id": "bfe71fb4",
   "metadata": {},
   "source": [
    "Zeo++ - add info"
   ]
  },
  {
   "cell_type": "markdown",
   "id": "41a1195f",
   "metadata": {},
   "source": []
  }
 ],
 "metadata": {
  "kernelspec": {
   "display_name": "ch359",
   "language": "python",
   "name": "python3"
  },
  "language_info": {
   "codemirror_mode": {
    "name": "ipython",
    "version": 3
   },
   "file_extension": ".py",
   "mimetype": "text/x-python",
   "name": "python",
   "nbconvert_exporter": "python",
   "pygments_lexer": "ipython3",
   "version": "3.8.16 | packaged by conda-forge | (default, Feb  1 2023, 16:01:55) \n[GCC 11.3.0]"
  },
  "vscode": {
   "interpreter": {
    "hash": "cafa4febb4531d3746783e3a69594e4babbec66c67dec25d40ad177d34b08658"
   }
  }
 },
 "nbformat": 4,
 "nbformat_minor": 5
}
