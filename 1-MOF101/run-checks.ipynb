{
 "cells": [
  {
   "attachments": {},
   "cell_type": "markdown",
   "id": "bfe71fb4",
   "metadata": {},
   "source": [
    "Importing packages"
   ]
  },
  {
   "cell_type": "code",
   "execution_count": 2,
   "id": "f9bcc93d",
   "metadata": {},
   "outputs": [],
   "source": [
    "import os, glob\n",
    "from ase.io import read\n",
    "from mofchecker import MOFChecker\n",
    "from oximachinerunner import OximachineRunner\n",
    "from moffragmentor import MOF\n",
    "import pymatgen\n",
    "from pymatgen.core.structure import Structure"
   ]
  },
  {
   "attachments": {},
   "cell_type": "markdown",
   "id": "bfe71fb4",
   "metadata": {},
   "source": [
    "We will start with [UiO66](https://pubs.acs.org/doi/10.1021/acs.cgd.9b00955) as an example. You can practice converting the \"UiO_66_orig.cif\" cif file into an xyz file, and then back again to a cif file (check section [3.](https://github.com/bmourino/ch359/blob/main/1-MOF101/README.md#3-managing-structure-files) Managing structure files). Name your cif file \"UiO_66.cif\". This might be very useful in the future, so don't skip it!\n",
    "\n",
    "Now we are ready to proceed, and we can load the structures we want to evaluate. Can you print the name of all structures that we have? *Hint*: you can use the method ['.split()'](https://python-reference.readthedocs.io/en/latest/docs/str/split.html)."
   ]
  },
  {
   "cell_type": "code",
   "execution_count": 3,
   "id": "26ad6f37",
   "metadata": {},
   "outputs": [],
   "source": [
    "THIS_DIR = os.path.dirname(os.path.abspath(\"__file__\"))\n",
    "s_folder = THIS_DIR + '/structures/'\n",
    "all_structures = glob.glob(os.path.join(s_folder, \"*.cif\"))\n",
    "\n",
    "for s in all_structures:\n",
    "    print('##') #complete '##'"
   ]
  },
  {
   "attachments": {},
   "cell_type": "markdown",
   "id": "bfe71fb4",
   "metadata": {},
   "source": [
    "[Chung](https://pubs.acs.org/doi/10.1021/cm502594j) et. al. have stated that \"A publicly available database of computation-ready MOF structures would be an invaluable tool for researchers interested in metal–organic frameworks\". Think about this (*Q$*): what does it mean for a structure to be computationally ready, and why is this important for us?\n",
    "\n",
    "\n",
    "\n",
    "MOFChecker is a tool developed by KM [Jablonka](https://doi.org/10.26434/chemrxiv-2022-4g7rx) et. al. that allows for quick detection of structures that are not computationally ready. Run a general check in the line below and analyze the outputs - can you explain what they mean?"
   ]
  },
  {
   "cell_type": "code",
   "execution_count": 5,
   "id": "03f6befa",
   "metadata": {},
   "outputs": [],
   "source": [
    "for structure in all_structures:\n",
    "    if '##' == 'UiO_66.cif': #complete '##'\n",
    "        s = structure\n",
    "\n",
    "mofchecker = MOFChecker.from_cif(s)\n",
    "descriptors = mofchecker.get_mof_descriptors()\n",
    "print(descriptors)"
   ]
  },
  {
   "attachments": {},
   "cell_type": "markdown",
   "id": "088a585f",
   "metadata": {},
   "source": [
    "\n",
    "Apart from performing boolean checks, you can also obtain some basic information and pinpoint possible issues, e.g., where a carbon atom has more bonds than allowed. Try to obtain more information for our UiO66. You can think about how to do it in the package [documentation](https://mofchecker.readthedocs.io/en/latest/api.html)."
   ]
  },
  {
   "cell_type": "code",
   "execution_count": 12,
   "id": "d4d950a0",
   "metadata": {},
   "outputs": [],
   "source": [
    "### type your code here"
   ]
  },
  {
   "attachments": {},
   "cell_type": "markdown",
   "id": "d5a36585",
   "metadata": {},
   "source": [
    "When structures are not clean, you might have to do it yourself to avoid misleading results (if you manage to get anything at all!)\n",
    "\n",
    "Follow the steps in [1.](https://github.com/bmourino/ch359/blob/main/1-MOF101/README.md#cleaning-on-avogadro) Visualizing structures on Avogadro - cleaning on Avogadro to try to clean UiO66.\n",
    "\n",
    "After this you can get a new cif file, and run the tests again to see if you solved the puzzle!"
   ]
  },
  {
   "attachments": {},
   "cell_type": "markdown",
   "id": "bfe71fb4",
   "metadata": {},
   "source": [
    "Moving forward...\n",
    "\n",
    "Oximachine is a machine-learning-based tool developed by KM [Jablonka](https://www.nature.com/articles/s41557-021-00717-y) et. al. that allows for predicting oxidation states for the metal sites in MOFs. It predicts the oxidation state with 4 models, and also informs us on the maximum confidence of each model.\n",
    "\n",
    "Each model is based on a different approach (extremely randomized decision trees, boosted decision trees, nearest-neighbour and linear functions), and it is proposed \"to make the estimates maximally uncorrelated, similarly to chemists who use different ways to rationalize oxidation states\".\n",
    "\n",
    "Let's try to figure out the oxidation state of Zr in UiO66! Complete the line below (check [here](https://github.com/kjappelbaum/oximachinerunner) for tips), run it and take note on the oxidation state that was predicted. Is there a difference between models? \n",
    "\n",
    "*Q$*: Why do we care about oxidation states? Does it change anything when performing a DFT calculation? In which way could this be relevant for ML?"
   ]
  },
  {
   "cell_type": "code",
   "execution_count": 12,
   "id": "496254c6",
   "metadata": {},
   "outputs": [],
   "source": [
    "runner = ### complete here\n",
    "s_ase = read(s)\n",
    "mof_ox = runner.run_oximachine(structure=s_ase)\n",
    "print(mof_ox)"
   ]
  },
  {
   "attachments": {},
   "cell_type": "markdown",
   "id": "bfe71fb4",
   "metadata": {},
   "source": [
    "Metal organic frameworks are put together through reticular chemistry, the science of linking discrete chemical entities by strong bonds to make extended structures. (OM Yaghi 2019, DOI:10.1002/9783527821099)\n",
    "\n",
    "Those chemical entities are what we call \"building blocks\": organic linkers and metal nodes or clusters. \n",
    "\n",
    "When we are dealing with a MOF computationally, we usually have a cif file of the whole periodic structure, where the building blocks are already put together - thanks to either experimental efforts or *in silico* design.\n",
    "\n",
    "Sometimes, however, we want to be able to separate, or fragment them again.\n",
    "\n",
    "One of the huge advantages of crystalline, periodical, building-blocks-based structures is that they make our lives easier when we want to establish structure-property relationship.\n",
    "\n",
    "By fragmenting many MOFs into their building blocks, we can try to see if there is any correlation between their properties and the presence of a fragment.\n",
    "\n",
    "In this regard, MOFChecker is a useful tool developed by KM [Jablonka](https://www.nature.com/articles/s41557-021-00717-y) et. al. It can split the MOF into its fragments. Let's try to do this with UiO66! Check [here](https://github.com/kjappelbaum/moffragmentor) for tips.\n",
    "\n",
    "*Q$*: Can you point out common linking points between organic linkers and metal nodes? If you think about this from an experimental perspective, where would you expect a reaction to occur? Why is this important, from a computational perspective?"
   ]
  },
  {
   "cell_type": "code",
   "execution_count": 15,
   "id": "c2e88beb",
   "metadata": {},
   "outputs": [],
   "source": [
    "mof = MOF.from_cif(s)\n",
    "fragments = ### complete here\n",
    "print(fragments)"
   ]
  },
  {
   "attachments": {},
   "cell_type": "markdown",
   "id": "d00bbb73",
   "metadata": {},
   "source": [
    "We can visualize the fragments:"
   ]
  },
  {
   "cell_type": "code",
   "execution_count": 16,
   "id": "169d334a",
   "metadata": {},
   "outputs": [],
   "source": [
    "fragments.linkers[0].show_molecule()"
   ]
  },
  {
   "cell_type": "code",
   "execution_count": null,
   "id": "937ec097",
   "metadata": {},
   "outputs": [],
   "source": [
    "fragments.nodes[0].show_molecule()"
   ]
  },
  {
   "attachments": {},
   "cell_type": "markdown",
   "id": "3f16e00d",
   "metadata": {},
   "source": [
    "And we can also search PubChem for the building blocks:"
   ]
  },
  {
   "cell_type": "code",
   "execution_count": null,
   "id": "16d4e0ce",
   "metadata": {},
   "outputs": [],
   "source": [
    "fragments.linkers[0].search_pubchem()"
   ]
  },
  {
   "attachments": {},
   "cell_type": "markdown",
   "id": "4ad251e0",
   "metadata": {},
   "source": [
    "We can also get the topology/net. Try it yourself! What is the observed net for UiO66?"
   ]
  },
  {
   "cell_type": "code",
   "execution_count": null,
   "id": "fbb76566",
   "metadata": {},
   "outputs": [],
   "source": [
    "fragments### complete here"
   ]
  },
  {
   "attachments": {},
   "cell_type": "markdown",
   "id": "17c46498",
   "metadata": {},
   "source": [
    "Try to obtain a standardized name for UiO66, and its topology, by using the tools mentioned in section [4.](https://github.com/bmourino/ch359/blob/main/1-MOF101/README.md#4-other-tools) Other tools.\n",
    "\n",
    "Compare the topologies obtained with moffragmentor and topcryst.\n",
    "\n",
    "*Q$*: How relevant is it to know the topology? Can properties change drastically if we have similar building blocks, but different topologies? If so, what would you expect to change?"
   ]
  },
  {
   "attachments": {},
   "cell_type": "markdown",
   "id": "bfe71fb4",
   "metadata": {},
   "source": [
    "Finally, pymatgen is a very versatile tool for materials of different kinds.\n",
    "It allows you to deal with defects, surfaces, slabs, get the primitive structure, and can even serve as an interface with some software for DFT calculations.\n",
    "\n",
    "We will try to get some basic information with pymatgen, and the primitive cell. A primitive cell is a unit cell that contains *one* lattice point, and is therefore the smallest possible unit cell.\n",
    "\n",
    "Feel free to explore different functionalities of pymatgen. You can get more information [here](https://pymatgen.org/introduction.html) and you can find tutorials [here](https://matgenb.materialsvirtuallab.org/)."
   ]
  },
  {
   "cell_type": "code",
   "execution_count": 13,
   "id": "3200bf41",
   "metadata": {},
   "outputs": [],
   "source": [
    "pmg_structure = Structure.from_file(s)"
   ]
  },
  {
   "attachments": {},
   "cell_type": "markdown",
   "id": "26615535",
   "metadata": {},
   "source": [
    "Print the following information: composition, density and charge."
   ]
  },
  {
   "cell_type": "code",
   "execution_count": null,
   "id": "3cd86a1e",
   "metadata": {},
   "outputs": [],
   "source": [
    "print(pmg_structure'###') ### complete here '###'\n",
    "print('###') ### complete here '###'\n",
    "print('###') ### complete here '###'"
   ]
  },
  {
   "attachments": {},
   "cell_type": "markdown",
   "id": "79cf07df",
   "metadata": {},
   "source": [
    "Get the primitive cell, and visualize it (for example, you can save the structure and open with your software of choice). Does anything change?"
   ]
  },
  {
   "cell_type": "code",
   "execution_count": 16,
   "id": "2badac7b",
   "metadata": {},
   "outputs": [],
   "source": [
    "primitive = pmg_structure.get_primitive_structure()"
   ]
  },
  {
   "attachments": {},
   "cell_type": "markdown",
   "id": "f251f90f",
   "metadata": {},
   "source": [
    "Your turn: analyze structures 1-6 from scratch - are they computationally ready? If not, clean them. \n",
    "Finally, do the same for MOF-5 and save the structure for the future: we will use it for our DFT calculations on part 3."
   ]
  }
 ],
 "metadata": {
  "kernelspec": {
   "display_name": "ch359",
   "language": "python",
   "name": "python3"
  },
  "language_info": {
   "codemirror_mode": {
    "name": "ipython",
    "version": 3
   },
   "file_extension": ".py",
   "mimetype": "text/x-python",
   "name": "python",
   "nbconvert_exporter": "python",
   "pygments_lexer": "ipython3",
   "version": "3.8.16"
  },
  "vscode": {
   "interpreter": {
    "hash": "cafa4febb4531d3746783e3a69594e4babbec66c67dec25d40ad177d34b08658"
   }
  }
 },
 "nbformat": 4,
 "nbformat_minor": 5
}
