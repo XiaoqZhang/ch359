{
 "cells": [
  {
   "cell_type": "code",
   "execution_count": 17,
   "metadata": {},
   "outputs": [],
   "source": [
    "import os\n",
    "import numpy as np\n",
    "import pandas as pd\n",
    "import json\n",
    "import joblib\n",
    "import matplotlib.pyplot as plt\n",
    "import matplotlib as mpl\n",
    "\n",
    "mpl.rcParams['font.size'] = 10\n",
    "mpl.rcParams['font.family'] = 'sans-serif'"
   ]
  },
  {
   "attachments": {},
   "cell_type": "markdown",
   "metadata": {},
   "source": [
    "# Week 1 & 2"
   ]
  },
  {
   "cell_type": "code",
   "execution_count": 28,
   "metadata": {},
   "outputs": [],
   "source": [
    "# convert pkl file to csv\n",
    "df_feat_ofm = pd.read_pickle(\"../data/features/ofm_fingerprints.pkl\", compression='gzip')\n",
    "df_feat_ofm.drop([\"Unnamed: 0\"], axis=1, inplace=True)\n",
    "df_feat_ofm.to_csv(\"../data/features/ofm_fingerprints.csv\", index=False)"
   ]
  },
  {
   "cell_type": "code",
   "execution_count": 29,
   "metadata": {},
   "outputs": [
    {
     "name": "stderr",
     "output_type": "stream",
     "text": [
      "/var/folders/gt/tsyp2wjd1ng0pkr1tf52kn600000gn/T/ipykernel_58423/3874740203.py:3: DtypeWarning: Columns (42,43,45,46,47,48,49,51,52,53,54,55,57,58,59,67,68,69,70,71,79,80,81,82,83,91,92,93,94,95) have mixed types. Specify dtype option on import or set low_memory=False.\n",
      "  df_label = pd.read_csv(\"../data/qmof.csv\")\n"
     ]
    }
   ],
   "source": [
    "df_feat_com = pd.read_csv(\"../data/features/stoich120_fingerprints.csv\")\n",
    "df_feat_ofm = pd.read_csv(\"../data/features/ofm_fingerprints.csv\")\n",
    "df_label = pd.read_csv(\"../data/qmof.csv\")"
   ]
  },
  {
   "attachments": {},
   "cell_type": "markdown",
   "metadata": {},
   "source": [
    "## Discussion 1"
   ]
  },
  {
   "attachments": {},
   "cell_type": "markdown",
   "metadata": {},
   "source": [
    "- How many structures are there in the database?\n",
    "- What is the dimension of the feature vectores?"
   ]
  },
  {
   "attachments": {},
   "cell_type": "markdown",
   "metadata": {},
   "source": [
    "Hint: call [`df.shape`](https://pandas.pydata.org/docs/reference/api/pandas.DataFrame.shape.html)"
   ]
  },
  {
   "cell_type": "code",
   "execution_count": null,
   "metadata": {},
   "outputs": [],
   "source": [
    "#fillme"
   ]
  },
  {
   "attachments": {},
   "cell_type": "markdown",
   "metadata": {},
   "source": [
    "## Discussion 2"
   ]
  },
  {
   "attachments": {},
   "cell_type": "markdown",
   "metadata": {},
   "source": [
    "- Are there any features that have the same values for all structures? If yes, which are they?\n",
    "- What kind of effects will they have on the model performance?"
   ]
  },
  {
   "attachments": {},
   "cell_type": "markdown",
   "metadata": {},
   "source": [
    "Hint: [`df.describe`](https://pandas.pydata.org/docs/reference/api/pandas.DataFrame.describe.html)"
   ]
  },
  {
   "cell_type": "code",
   "execution_count": null,
   "metadata": {},
   "outputs": [],
   "source": [
    "#fillme"
   ]
  },
  {
   "attachments": {},
   "cell_type": "markdown",
   "metadata": {},
   "source": [
    "## Check the distribution of band gaps"
   ]
  },
  {
   "attachments": {},
   "cell_type": "markdown",
   "metadata": {},
   "source": [
    "- What is the minimum and the maximum value of the band gaps?\n",
    "- What is the first, second, and third quartile of the band gaps?\n",
    "- Plot the distribution of the band gaps using [`plt.hist()`](https://matplotlib.org/stable/api/_as_gen/matplotlib.pyplot.hist.html)"
   ]
  },
  {
   "cell_type": "code",
   "execution_count": null,
   "metadata": {},
   "outputs": [],
   "source": [
    "#fillme"
   ]
  },
  {
   "attachments": {},
   "cell_type": "markdown",
   "metadata": {},
   "source": [
    "# Week 3"
   ]
  },
  {
   "attachments": {},
   "cell_type": "markdown",
   "metadata": {},
   "source": [
    "## Read true and predicted bandgap"
   ]
  },
  {
   "cell_type": "code",
   "execution_count": null,
   "metadata": {},
   "outputs": [],
   "source": [
    "df_train = #fillme\n",
    "df_test = #fillme"
   ]
  },
  {
   "cell_type": "code",
   "execution_count": null,
   "metadata": {},
   "outputs": [],
   "source": [
    "train_min = df_train[\"ML\"].min()\n",
    "train_max = df_train[\"ML\"].max()"
   ]
  },
  {
   "attachments": {},
   "cell_type": "markdown",
   "metadata": {},
   "source": [
    "## Plot the parity plot"
   ]
  },
  {
   "cell_type": "code",
   "execution_count": null,
   "metadata": {},
   "outputs": [],
   "source": [
    "fig, axs = plt.subplots(1,2)\n",
    "fig.set_size_inches((20,9))\n",
    "\n",
    "for ax in axs:\n",
    "    ax.set_aspect('equal')\n",
    "axs[0].scatter(#fillme)\n",
    "axs[0].plot([train_min, train_max], [train_min, train_max], 'r--')\n",
    "\n",
    "axs[1].scatter(#fillme)\n",
    "axs[1].plot([train_min, train_max], [train_min, train_max], 'r--')\n",
    "\n",
    "#fillme     # plot legend, labels, etc."
   ]
  },
  {
   "attachments": {},
   "cell_type": "markdown",
   "metadata": {},
   "source": [
    "# Week 4"
   ]
  },
  {
   "attachments": {},
   "cell_type": "markdown",
   "metadata": {},
   "source": [
    "## Discussion"
   ]
  },
  {
   "attachments": {},
   "cell_type": "markdown",
   "metadata": {},
   "source": [
    "- What is your hyperparameter searching range? \n",
    "- What is the best hyperparameter you found?"
   ]
  },
  {
   "attachments": {},
   "cell_type": "markdown",
   "metadata": {},
   "source": [
    "Hint: plot the evaluation matrix with errorbars using [`plt.bar()`](https://matplotlib.org/3.1.1/api/_as_gen/matplotlib.pyplot.bar.html)"
   ]
  },
  {
   "cell_type": "code",
   "execution_count": null,
   "metadata": {},
   "outputs": [],
   "source": [
    "m1_loss = json.load(#fillme)\n",
    "m2_loss = json.load(#fillme)\n",
    "\n",
    "m1_ft = pd.read_csv(#fillme)\n",
    "#m2_ft = pd.read_csv(#fillme)"
   ]
  },
  {
   "cell_type": "code",
   "execution_count": null,
   "metadata": {},
   "outputs": [],
   "source": [
    "plt.bar(#fillme)"
   ]
  },
  {
   "attachments": {},
   "cell_type": "markdown",
   "metadata": {},
   "source": [
    "# Week 5"
   ]
  },
  {
   "attachments": {},
   "cell_type": "markdown",
   "metadata": {},
   "source": [
    "## Plot the learning curve"
   ]
  },
  {
   "cell_type": "code",
   "execution_count": null,
   "metadata": {},
   "outputs": [],
   "source": [
    "# read data\n",
    "\n",
    "lc_data = #fillme"
   ]
  },
  {
   "cell_type": "code",
   "execution_count": null,
   "metadata": {},
   "outputs": [],
   "source": [
    "# make plots\n",
    "\n",
    "plt.plot(#fillme)\n",
    "plt.errorbar(#fillme)"
   ]
  },
  {
   "attachments": {},
   "cell_type": "markdown",
   "metadata": {},
   "source": [
    "## Use the model to predict band gap of MOF-5"
   ]
  },
  {
   "attachments": {},
   "cell_type": "markdown",
   "metadata": {},
   "source": [
    "All files of MOF-5 needed is in ../data/mof5\n",
    "\n",
    "Follow the steps:\n",
    "\n",
    "- Featurize MOF-5 with python scripts in ../machine_learning/w1w2-featurizer\n",
    "- Load saved model\n",
    "- Predict the band gap of MOF-5\n",
    "- Compare the model estimated band gap with DFT calculated value"
   ]
  },
  {
   "cell_type": "code",
   "execution_count": null,
   "metadata": {},
   "outputs": [],
   "source": [
    "# load saved model\n",
    "model_com = joblib.load(#fillme)\n",
    "model_ofm = joblib.load(#fillme)"
   ]
  },
  {
   "cell_type": "code",
   "execution_count": null,
   "metadata": {},
   "outputs": [],
   "source": [
    "# load mof5 fingerprints\n",
    "mof5_feat_com = pd.read_csv(#fillme).set_index('MOF')\n",
    "mof5_feat_ofm = pd.read_csv(#fillme).set_index(\"MOF\")"
   ]
  },
  {
   "cell_type": "code",
   "execution_count": null,
   "metadata": {},
   "outputs": [],
   "source": [
    "# make predictions\n",
    "mof5_bg_com = model_com.predict(#fillme)\n",
    "mof5_bg_ofm = model_ofm.predict(#fillme)"
   ]
  }
 ],
 "metadata": {
  "kernelspec": {
   "display_name": "qmof",
   "language": "python",
   "name": "python3"
  },
  "language_info": {
   "codemirror_mode": {
    "name": "ipython",
    "version": 3
   },
   "file_extension": ".py",
   "mimetype": "text/x-python",
   "name": "python",
   "nbconvert_exporter": "python",
   "pygments_lexer": "ipython3",
   "version": "3.8.16"
  },
  "orig_nbformat": 4,
  "vscode": {
   "interpreter": {
    "hash": "21af2a04fa4a5a0e74f62a8504c1439400e63a9151f185f4a073413c4e90d46f"
   }
  }
 },
 "nbformat": 4,
 "nbformat_minor": 2
}
