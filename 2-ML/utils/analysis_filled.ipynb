{
 "cells": [
  {
   "cell_type": "code",
   "execution_count": 19,
   "metadata": {},
   "outputs": [],
   "source": [
    "import os\n",
    "import numpy as np\n",
    "import pandas as pd\n",
    "import json\n",
    "import joblib\n",
    "import matplotlib.pyplot as plt\n",
    "import matplotlib as mpl\n",
    "\n",
    "mpl.rcParams['font.size'] = 10\n",
    "mpl.rcParams['font.family'] = 'sans-serif'"
   ]
  },
  {
   "attachments": {},
   "cell_type": "markdown",
   "metadata": {},
   "source": [
    "# Week 1 & 2"
   ]
  },
  {
   "cell_type": "code",
   "execution_count": 2,
   "metadata": {},
   "outputs": [
    {
     "name": "stderr",
     "output_type": "stream",
     "text": [
      "/var/folders/gt/tsyp2wjd1ng0pkr1tf52kn600000gn/T/ipykernel_3140/3874740203.py:3: DtypeWarning: Columns (42,43,45,46,47,48,49,51,52,53,54,55,57,58,59,67,68,69,70,71,79,80,81,82,83,91,92,93,94,95) have mixed types. Specify dtype option on import or set low_memory=False.\n",
      "  df_label = pd.read_csv(\"../data/qmof.csv\")\n"
     ]
    }
   ],
   "source": [
    "df_feat_com = pd.read_csv(\"../data/features/stoich120_fingerprints.csv\")\n",
    "df_feat_ofm = pd.read_csv(\"../data/features/ofm_fingerprints.csv\")\n",
    "df_label = pd.read_csv(\"../data/qmof.csv\")"
   ]
  },
  {
   "attachments": {},
   "cell_type": "markdown",
   "metadata": {},
   "source": [
    "## Discussion 1"
   ]
  },
  {
   "attachments": {},
   "cell_type": "markdown",
   "metadata": {},
   "source": [
    "- How many structures are there in the database?\n",
    "- What is the dimension of the feature vectores?"
   ]
  },
  {
   "attachments": {},
   "cell_type": "markdown",
   "metadata": {},
   "source": [
    "Hint: call (`df.shape`)[https://pandas.pydata.org/docs/reference/api/pandas.DataFrame.shape.html]"
   ]
  },
  {
   "cell_type": "code",
   "execution_count": null,
   "metadata": {},
   "outputs": [],
   "source": [
    "#fillme"
   ]
  },
  {
   "attachments": {},
   "cell_type": "markdown",
   "metadata": {},
   "source": [
    "## Discussion 2"
   ]
  },
  {
   "attachments": {},
   "cell_type": "markdown",
   "metadata": {},
   "source": [
    "- Are there any features that have the same values for all structures? If yes, which are they?\n",
    "- What kind of effects will they have on the model performance?"
   ]
  },
  {
   "cell_type": "code",
   "execution_count": null,
   "metadata": {},
   "outputs": [],
   "source": [
    "#fillme\n",
    "com_counting = df_feat_com.describe()\n",
    "const_feat = [key for key in com_counting.keys() if com_counting[key][\"std\"]==0]"
   ]
  },
  {
   "cell_type": "code",
   "execution_count": null,
   "metadata": {},
   "outputs": [],
   "source": [
    "const_feat"
   ]
  },
  {
   "cell_type": "code",
   "execution_count": null,
   "metadata": {},
   "outputs": [],
   "source": [
    "uni_feat = [key for key in df_feat_com.keys() if key not in const_feat]"
   ]
  },
  {
   "cell_type": "code",
   "execution_count": null,
   "metadata": {},
   "outputs": [],
   "source": [
    "df_feat_com_uni = df_feat_com[uni_feat]"
   ]
  },
  {
   "cell_type": "code",
   "execution_count": null,
   "metadata": {},
   "outputs": [],
   "source": [
    "df_feat_com_uni.to_csv(\"../data/features/stoich120_fingerprints_processed.csv\", index=False)"
   ]
  },
  {
   "attachments": {},
   "cell_type": "markdown",
   "metadata": {},
   "source": [
    "- Model with original fingerprints \\\n",
    "Train size:  16299 \\\n",
    "Test size:  4075 \\\n",
    "Train/test MAE:  0.3820170159136949 0.4528077329818929 \\\n",
    "Train/test MSE:  0.2592329547360367 0.3575536280128822 \\\n",
    "Train/test r2:  0.7984888749541184 0.7152858603480199 \\\n",
    "\n",
    "- Model remove part of features \\\n",
    "Train size:  16299 \\\n",
    "Test size:  4075 \\\n",
    "Train/test MAE:  0.38201701591369436 0.4528077329819106 \\\n",
    "Train/test MSE:  0.25923295473605484 0.3575536280128981 \\\n",
    "Train/test r2:  0.7984888749541043 0.7152858603480073 \\"
   ]
  },
  {
   "attachments": {},
   "cell_type": "markdown",
   "metadata": {},
   "source": [
    "## Check the distribution of band gaps"
   ]
  },
  {
   "attachments": {},
   "cell_type": "markdown",
   "metadata": {},
   "source": [
    "Hint: `df.describe()`"
   ]
  },
  {
   "cell_type": "code",
   "execution_count": null,
   "metadata": {},
   "outputs": [],
   "source": [
    "#fillme\n",
    "df_label[\"outputs.pbe.bandgap\"].describe()"
   ]
  },
  {
   "cell_type": "code",
   "execution_count": null,
   "metadata": {},
   "outputs": [],
   "source": [
    "q = df_label[\"outputs.pbe.bandgap\"].quantile(0.75)"
   ]
  },
  {
   "cell_type": "code",
   "execution_count": null,
   "metadata": {},
   "outputs": [],
   "source": [
    "plt.hist(df_label[\"outputs.pbe.bandgap\"], bins=40)\n",
    "plt.plot([q, q], [0, 1200], 'r--')"
   ]
  },
  {
   "attachments": {},
   "cell_type": "markdown",
   "metadata": {},
   "source": [
    "# Week 3"
   ]
  },
  {
   "attachments": {},
   "cell_type": "markdown",
   "metadata": {},
   "source": [
    "## Read true and predicted bandgap"
   ]
  },
  {
   "cell_type": "code",
   "execution_count": null,
   "metadata": {},
   "outputs": [],
   "source": [
    "#fillme\n",
    "df_train = pd.read_csv(\"../results/stoich120/train_results.csv\")\n",
    "df_test = pd.read_csv(\"../results/stoich120/test_results.csv\")"
   ]
  },
  {
   "cell_type": "code",
   "execution_count": null,
   "metadata": {},
   "outputs": [],
   "source": [
    "train_min = df_train[\"ML\"].min()\n",
    "train_max = df_train[\"ML\"].max()\n",
    "\n",
    "test_min = df_test[\"ML\"].min()\n",
    "test_max = df_test[\"ML\"].max()"
   ]
  },
  {
   "attachments": {},
   "cell_type": "markdown",
   "metadata": {},
   "source": [
    "## Plot the parity plot"
   ]
  },
  {
   "cell_type": "code",
   "execution_count": null,
   "metadata": {},
   "outputs": [],
   "source": [
    "fig, axs = plt.subplots(1,2)\n",
    "fig.set_size_inches((20,9))\n",
    "\n",
    "for ax in axs:\n",
    "    ax.set_aspect('equal')\n",
    "axs[0].scatter(df_train[\"DFT\"], df_train[\"ML\"])\n",
    "axs[0].plot([train_min, train_max], [train_min, train_max], 'r--')\n",
    "\n",
    "axs[1].scatter(df_test[\"DFT\"], df_test[\"ML\"])\n",
    "axs[1].plot([train_min, train_max], [train_min, train_max], 'r--')\n",
    "\n",
    "#fig.savefig('#fillme')"
   ]
  },
  {
   "attachments": {},
   "cell_type": "markdown",
   "metadata": {},
   "source": [
    "# Week 4"
   ]
  },
  {
   "attachments": {},
   "cell_type": "markdown",
   "metadata": {},
   "source": [
    "## Discussion"
   ]
  },
  {
   "attachments": {},
   "cell_type": "markdown",
   "metadata": {},
   "source": [
    "- What is your hyperparameter searching range? \n",
    "- What is the best hyperparameter you found?"
   ]
  },
  {
   "cell_type": "code",
   "execution_count": 26,
   "metadata": {},
   "outputs": [],
   "source": [
    "with open(\"../results/stoich120/loss.json\") as file:\n",
    "    m1_loss = json.load(file)\n",
    "#with open(\"../results/ofm/loss.json\") as file:\n",
    "#    m2_loss = json.load(file)\n",
    "\n",
    "m1_ft = pd.read_csv(\"../results/stoich120/cv_results.csv\")\n",
    "#m2_ft = pd.read_csv(\"../results/ofm/cv_results.csv\")"
   ]
  },
  {
   "cell_type": "code",
   "execution_count": 28,
   "metadata": {},
   "outputs": [
    {
     "data": {
      "text/plain": [
       "<BarContainer object of 3 artists>"
      ]
     },
     "execution_count": 28,
     "metadata": {},
     "output_type": "execute_result"
    },
    {
     "data": {
      "image/png": "[encoded data removed]",
      "text/plain": [
       "<Figure size 640x480 with 1 Axes>"
      ]
     },
     "metadata": {},
     "output_type": "display_data"
    }
   ],
   "source": [
    "plt.bar(np.array([1,2,3]), [m1_loss['train_mse'], m1_loss['train_mae'], m1_loss['train_r2']])"
   ]
  },
  {
   "cell_type": "code",
   "execution_count": 25,
   "metadata": {},
   "outputs": [
    {
     "ename": "TypeError",
     "evalue": "string indices must be integers",
     "output_type": "error",
     "traceback": [
      "\u001b[0;31m---------------------------------------------------------------------------\u001b[0m",
      "\u001b[0;31mTypeError\u001b[0m                                 Traceback (most recent call last)",
      "Cell \u001b[0;32mIn[25], line 1\u001b[0m\n\u001b[0;32m----> 1\u001b[0m m1_loss[\u001b[39m'\u001b[39;49m\u001b[39mtrain_mae\u001b[39;49m\u001b[39m'\u001b[39;49m]\n",
      "\u001b[0;31mTypeError\u001b[0m: string indices must be integers"
     ]
    }
   ],
   "source": [
    "m1_loss['train_mae']"
   ]
  },
  {
   "attachments": {},
   "cell_type": "markdown",
   "metadata": {},
   "source": [
    "# Week 5"
   ]
  },
  {
   "attachments": {},
   "cell_type": "markdown",
   "metadata": {},
   "source": [
    "## Plot the learning curve"
   ]
  },
  {
   "cell_type": "code",
   "execution_count": 11,
   "metadata": {},
   "outputs": [],
   "source": [
    "# read data\n",
    "\n",
    "lc_data = pd.read_csv(\"../results/stoich120/learning_curve.csv\")\n",
    "lc_processed_data = pd.read_csv(\"../results/stoich120/learning_curve_processed.csv\")"
   ]
  },
  {
   "cell_type": "code",
   "execution_count": 14,
   "metadata": {},
   "outputs": [
    {
     "data": {
      "text/plain": [
       "Text(0, 0.5, 'MSE')"
      ]
     },
     "execution_count": 14,
     "metadata": {},
     "output_type": "execute_result"
    },
    {
     "data": {
      "image/png": "[encoded data removed]",
      "text/plain": [
       "<Figure size 640x480 with 1 Axes>"
      ]
     },
     "metadata": {},
     "output_type": "display_data"
    }
   ],
   "source": [
    "# make plots\n",
    "\n",
    "plt.errorbar(lc_data[\"Training size\"], lc_data[\"MSE\"], lc_data[\"MSE_std\"])\n",
    "plt.errorbar(lc_processed_data[\"Training size\"], lc_processed_data[\"MSE\"], lc_processed_data[\"MSE_std\"])\n",
    "\n",
    "plt.xlabel(\"Training size\")\n",
    "plt.ylabel(\"MSE\")"
   ]
  },
  {
   "attachments": {},
   "cell_type": "markdown",
   "metadata": {},
   "source": [
    "## Use the model to predict band gap of MOF-5"
   ]
  },
  {
   "attachments": {},
   "cell_type": "markdown",
   "metadata": {},
   "source": [
    "Follow the steps:\n",
    "All files of MOF-5 needed is in ../data/mof5s\n",
    "\n",
    "- Featurize MOF-5 with python scripts in ../machine_learning/w1w2-featurizer\n",
    "- Load saved model\n",
    "- Predict the band gap of MOF-5\n",
    "- Compare the model estimated band gap with DFT calculated value"
   ]
  },
  {
   "cell_type": "code",
   "execution_count": 3,
   "metadata": {},
   "outputs": [],
   "source": [
    "# load saved model\n",
    "model_com = joblib.load(\"../results/stoich120/best_model.pkl\")\n",
    "model_ofm = joblib.load(\"../results/ofm/best_model.pkl\")"
   ]
  },
  {
   "cell_type": "code",
   "execution_count": 9,
   "metadata": {},
   "outputs": [],
   "source": [
    "# load mof5 fingerprints\n",
    "mof5_feat_com = pd.read_csv(\"../data/mof5/mof5_meta/features/stoich120_fingerprints.csv\").set_index('MOF')\n",
    "mof5_feat_ofm = pd.read_csv(\"../data/mof5/mof5_meta/features/ofm_fingerprints.csv\").set_index(\"MOF\")"
   ]
  },
  {
   "cell_type": "code",
   "execution_count": 12,
   "metadata": {},
   "outputs": [],
   "source": [
    "# make predictions\n",
    "mof5_bg_com = model_com.predict(mof5_feat_com.values)\n",
    "mof5_bg_ofm = model_ofm.predict(mof5_feat_ofm.values)"
   ]
  },
  {
   "cell_type": "code",
   "execution_count": 13,
   "metadata": {},
   "outputs": [
    {
     "data": {
      "text/plain": [
       "(array([[0.66539097]]), array([[1.98733229]]))"
      ]
     },
     "execution_count": 13,
     "metadata": {},
     "output_type": "execute_result"
    }
   ],
   "source": [
    "mof5_bg_com, mof5_bg_ofm"
   ]
  },
  {
   "cell_type": "code",
   "execution_count": null,
   "metadata": {},
   "outputs": [],
   "source": []
  }
 ],
 "metadata": {
  "kernelspec": {
   "display_name": "qmof",
   "language": "python",
   "name": "python3"
  },
  "language_info": {
   "codemirror_mode": {
    "name": "ipython",
    "version": 3
   },
   "file_extension": ".py",
   "mimetype": "text/x-python",
   "name": "python",
   "nbconvert_exporter": "python",
   "pygments_lexer": "ipython3",
   "version": "3.8.16"
  },
  "orig_nbformat": 4,
  "vscode": {
   "interpreter": {
    "hash": "21af2a04fa4a5a0e74f62a8504c1439400e63a9151f185f4a073413c4e90d46f"
   }
  }
 },
 "nbformat": 4,
 "nbformat_minor": 2
}
